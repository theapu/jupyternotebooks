{
 "cells": [
  {
   "cell_type": "markdown",
   "id": "a1683eac",
   "metadata": {},
   "source": [
    "# Install required apt packages"
   ]
  },
  {
   "cell_type": "code",
   "execution_count": null,
   "id": "c3ccae69-bfa8-4d7b-8975-96aa0f9f1aea",
   "metadata": {},
   "outputs": [],
   "source": [
    "# @title Install required apt packages\n",
    "!apt-get update\n",
    "!apt-get install -y build-essential python3.11 python3.11-dev python3.11-venv unzip\n",
    "!update-alternatives --install /usr/bin/python3 python3 /usr/bin/python3.11 1\n",
    "!update-alternatives --install /usr/bin/python python /usr/bin/python3.11 1\n",
    "!python3 --version\n",
    "!python --version\n",
    "!echo \"-= Done. =-\""
   ]
  },
  {
   "cell_type": "markdown",
   "id": "b6f88b4e",
   "metadata": {},
   "source": [
    "# Environment Setup"
   ]
  },
  {
   "cell_type": "code",
   "execution_count": null,
   "id": "c41cbd79-d3ba-4133-8e5a-bf2e8f485adc",
   "metadata": {},
   "outputs": [],
   "source": [
    "# @title Environment Setup\n",
    "from pathlib import Path\n",
    "import os\n",
    "\n",
    "OPTIONS = {}\n",
    "\n",
    "UPDATE_FLUXGYM = False  #@param {type:\"boolean\"}\n",
    "UPDATE_KOHYA_SS = False  #@param {type:\"boolean\"}\n",
    "\n",
    "OPTIONS['UPDATE_FLUXGYM'] = UPDATE_FLUXGYM\n",
    "OPTIONS['UPDATE_KOHYA_SS'] = UPDATE_KOHYA_SS\n",
    "\n",
    "APPLICATIONS_DIR=\"/opt/applications\"\n",
    "\n",
    "AI_WORKSPACE = f\"{APPLICATIONS_DIR}/AI\"\n",
    "FLUXGYM_WORKSPACE = f\"{APPLICATIONS_DIR}/AI/fluxgym\"\n",
    "KOHYA_SS_WORKSPACE = f\"{APPLICATIONS_DIR}/AI/fluxgym/sd-scripts\"\n",
    "\n",
    "!echo \"Creating AI workspace (if it doesn't exist)\"\n",
    "os.makedirs(AI_WORKSPACE, exist_ok=True)\n",
    "\n",
    "%cd $AI_WORKSPACE\n",
    "\n",
    "![ ! -d $FLUXGYM_WORKSPACE ] && echo -= Initial setup FLUXGYM =- && git clone https://github.com/cocktailpeanut/fluxgym $FLUXGYM_WORKSPACE\n",
    "\n",
    "%cd $FLUXGYM_WORKSPACE\n",
    "\n",
    "![ ! -d $KOHYA_SS_WORKSPACE ] && echo -= Initial setup Kohya_ss =- && git clone -b sd3 https://github.com/kohya-ss/sd-scripts $KOHYA_SS_WORKSPACE\n",
    "\n",
    "if OPTIONS['UPDATE_FLUXGYM']:\n",
    "  !echo \"-= Updating FLUXGYM =-\"\n",
    "  %cd $FLUXGYM_WORKSPACE\n",
    "  !git pull\n",
    "\n",
    "if OPTIONS['UPDATE_KOHYA_SS']:\n",
    "  !echo \"-= Updating Kohya_ss =-\"\n",
    "  %cd KOHYA_SS_WORKSPACE\n",
    "  !git pull\n",
    "\n",
    "%cd $FLUXGYM_WORKSPACE    \n",
    "\n",
    "!python -m venv env\n",
    "!source env/bin/activate\n",
    "\n",
    "%cd $KOHYA_SS_WORKSPACE\n",
    "\n",
    "%pip install -r requirements.txt\n",
    "\n",
    "%cd $FLUXGYM_WORKSPACE\n",
    "\n",
    "%pip install -r requirements.txt\n",
    "\n",
    "!pip install matplotlib-inline\n",
    "!pip install --pre torch torchvision torchaudio --index-url https://download.pytorch.org/whl/cu121\n",
    "\n",
    "!echo \"-= Done. =-\""
   ]
  },
  {
   "cell_type": "markdown",
   "id": "3cbfb219",
   "metadata": {},
   "source": [
    "# Install rathole and configure"
   ]
  },
  {
   "cell_type": "code",
   "execution_count": null,
   "id": "fb19fc4c-b01d-4c7f-9b22-432889f836e2",
   "metadata": {
    "scrolled": true
   },
   "outputs": [],
   "source": [
    "# @title Install rathole and configure\n",
    "import os\n",
    "\n",
    "RATHOLE_SERVER_IP = \"15.235.162.159\"  #@param {type:\"string\"}\n",
    "RATHOLE_SERVER_PORT = 2333 # @param {\"type\":\"number\"}\n",
    "RATHOLE_PATH = \"/opt/applications/rathole\" # @param {\"type\":\"string\"}\n",
    "FLUXGYM_PORT = 7860 # @param {\"type\":\"number\"}\n",
    "\n",
    "os.makedirs(RATHOLE_PATH, exist_ok=True)\n",
    "\n",
    "%cd $RATHOLE_PATH\n",
    "\n",
    "!wget https://github.com/rapiz1/rathole/releases/download/v0.5.0/rathole-x86_64-unknown-linux-gnu.zip\n",
    "!unzip -o rathole-x86_64-unknown-linux-gnu.zip; rm -rf rathole-x86_64-unknown-linux-gnu.zip\n",
    "!chmod 775 rathole\n",
    "#Create client configuration\n",
    "!echo \"[client]\" > client.toml\n",
    "!echo \"remote_addr = \\\"$RATHOLE_SERVER_IP:$RATHOLE_SERVER_PORT\\\"\" >> client.toml\n",
    "!echo \"\" >> client.toml\n",
    "!echo \"[client.services.fluxgymtcpa]\" >> client.toml\n",
    "!echo \"type = \\\"tcp\\\"\" >> client.toml\n",
    "!echo \"token = \\\"tSoB3rhg~=\\\"\" >> client.toml\n",
    "!echo \"local_addr = \\\"localhost:$FLUXGYM_PORT\\\"\" >> client.toml\n",
    "!echo \"-= Done. =-\""
   ]
  },
  {
   "cell_type": "markdown",
   "id": "b8d08085",
   "metadata": {},
   "source": [
    "# Start Rathole tunnel and FluxGym"
   ]
  },
  {
   "cell_type": "code",
   "execution_count": null,
   "id": "a737dd0d-9721-44c3-9b42-905eb0e2ae5b",
   "metadata": {},
   "outputs": [],
   "source": [
    "# @title Start Rathole tunnel and FluxGym\n",
    "import subprocess\n",
    "import threading\n",
    "import time\n",
    "import socket\n",
    "import urllib.request\n",
    "\n",
    "ratholepath = RATHOLE_PATH\n",
    "\n",
    "def iframe_thread(port):\n",
    "  while True:\n",
    "      time.sleep(0.5)\n",
    "      sock = socket.socket(socket.AF_INET, socket.SOCK_STREAM)\n",
    "      result = sock.connect_ex(('127.0.0.1', port))\n",
    "      if result == 0:\n",
    "        break\n",
    "      sock.close()\n",
    "  print(\"Starting Rathole\")\n",
    "  p = subprocess.Popen([ratholepath + \"/rathole\", \"--client\", ratholepath + \"/client.toml\"], stdout=subprocess.PIPE, stderr=subprocess.PIPE)\n",
    "  !echo \"-= Rathole started =-\"\n",
    "\n",
    "threading.Thread(target=iframe_thread, daemon=True, args=(FLUXGYM_PORT,)).start()\n",
    "\n",
    "%cd $FLUXGYM_WORKSPACE\n",
    "\n",
    "!python3 app.py\n",
    "#Use modified app.py if --listen and --port are needed\n",
    "#!python3 app.py --listen=\"0.0.0.0\" --port=$FLUXGYM_PORT\n",
    "\n",
    "!echo \"-= Done. =-\""
   ]
  },
  {
   "cell_type": "markdown",
   "id": "3608cfab",
   "metadata": {},
   "source": [
    "# Install cloudflare"
   ]
  },
  {
   "cell_type": "code",
   "execution_count": null,
   "id": "f835b728-07ab-439c-9b9c-df75f64fb08e",
   "metadata": {},
   "outputs": [],
   "source": [
    "# @title Install cloudflare\n",
    "!wget https://github.com/cloudflare/cloudflared/releases/latest/download/cloudflared-linux-amd64.deb\n",
    "!dpkg -i cloudflared-linux-amd64.deb\n",
    "!rm -rf cloudflared-linux-amd64.deb\n",
    "!echo \"-= Done. =-\""
   ]
  },
  {
   "cell_type": "markdown",
   "id": "1846bc64",
   "metadata": {},
   "source": [
    "# Start cloudflare tunnel and FluxGym"
   ]
  },
  {
   "cell_type": "code",
   "execution_count": null,
   "id": "0aedb3c2-b420-4683-a4bc-ac7c4b5a34c7",
   "metadata": {
    "scrolled": true
   },
   "outputs": [],
   "source": [
    "# @title Start cloudflare tunnel and FluxGym\n",
    "import subprocess\n",
    "import threading\n",
    "import time\n",
    "import socket\n",
    "import urllib.request\n",
    "\n",
    "FLUXGYM_PORT = 7860 # @param {\"type\":\"number\"}\n",
    "\n",
    "def iframe_thread(port):\n",
    "  while True:\n",
    "      time.sleep(0.5)\n",
    "      sock = socket.socket(socket.AF_INET, socket.SOCK_STREAM)\n",
    "      result = sock.connect_ex(('127.0.0.1', port))\n",
    "      if result == 0:\n",
    "        break\n",
    "      sock.close()\n",
    "  print(\"\\nFLUXGYM finished loading, trying to launch cloudflared (if it gets stuck here cloudflared is having issues)\\n\")\n",
    "\n",
    "  p = subprocess.Popen([\"cloudflared\", \"tunnel\", \"--url\", \"http://127.0.0.1:{}\".format(port)], stdout=subprocess.PIPE, stderr=subprocess.PIPE)\n",
    "  for line in p.stderr:\n",
    "    l = line.decode()\n",
    "    if \"trycloudflare.com \" in l:\n",
    "      cf_url = l[l.find(\"http\"):]\n",
    "      print(\"This is the URL to access ComfyUI:\", cf_url, end='')\n",
    "\n",
    "threading.Thread(target=iframe_thread, daemon=True, args=(FLUXGYM_PORT,)).start()\n",
    "\n",
    "%cd $FLUXGYM_WORKSPACE\n",
    "\n",
    "!python3 app.py\n",
    "#Use modified app.py if --listen and --port are needed\n",
    "#!python3 app.py --listen=\"0.0.0.0\" --port=$FLUXGYM_PORT\n",
    "\n",
    "\n",
    "!echo \"-= Done. =-\""
   ]
  }
 ],
 "metadata": {
  "kernelspec": {
   "display_name": "Python 3 (ipykernel)",
   "language": "python",
   "name": "python3"
  },
  "language_info": {
   "codemirror_mode": {
    "name": "ipython",
    "version": 3
   },
   "file_extension": ".py",
   "mimetype": "text/x-python",
   "name": "python",
   "nbconvert_exporter": "python",
   "pygments_lexer": "ipython3",
   "version": "3.10.12"
  }
 },
 "nbformat": 4,
 "nbformat_minor": 5
}

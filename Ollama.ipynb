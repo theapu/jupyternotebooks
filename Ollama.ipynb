{
 "cells": [
  {
   "cell_type": "markdown",
   "id": "176b6bcb-e429-4c23-81bd-9c8d9a5cb880",
   "metadata": {},
   "source": [
    "# Install required apt packages"
   ]
  },
  {
   "cell_type": "code",
   "execution_count": null,
   "id": "c231d24b-8313-4ba3-aaaa-0b21aed5aa9c",
   "metadata": {
    "scrolled": true
   },
   "outputs": [],
   "source": [
    "# @title Install required apt packages\n",
    "!apt-get update\n",
    "!apt-get install -y build-essential python3.11 python3.11-dev unzip pciutils net-tools libgl1\n",
    "!update-alternatives --install /usr/bin/python3 python3 /usr/bin/python3.11 1\n",
    "!update-alternatives --install /usr/bin/python python /usr/bin/python3.11 1\n",
    "!python3 --version\n",
    "!python --version\n",
    "!echo \"-= Done. =-\""
   ]
  },
  {
   "cell_type": "markdown",
   "id": "b16d9604-bc9d-447d-b175-3cd8da051b77",
   "metadata": {},
   "source": [
    "# Install ollama"
   ]
  },
  {
   "cell_type": "code",
   "execution_count": null,
   "id": "f9b1bf3e-a2a7-486b-adcf-d8e341662bae",
   "metadata": {},
   "outputs": [],
   "source": [
    "!curl -fsSL https://ollama.com/install.sh | sh\n",
    "!echo \"-= Done. =-\""
   ]
  },
  {
   "cell_type": "markdown",
   "id": "075100b5-75b0-4ecc-a9aa-f26ac9f0c962",
   "metadata": {},
   "source": [
    "# Install openwebui"
   ]
  },
  {
   "cell_type": "code",
   "execution_count": null,
   "id": "d028aee6-713a-4c02-9b26-4243133347f2",
   "metadata": {
    "scrolled": true
   },
   "outputs": [],
   "source": [
    "!pip install open-webui\n",
    "!pip install ffmpeg\n",
    "!echo \"-= Done. =-\""
   ]
  },
  {
   "cell_type": "markdown",
   "id": "16f07402-7013-4153-98d6-eaa4072494f8",
   "metadata": {},
   "source": [
    "# Start ollama"
   ]
  },
  {
   "cell_type": "code",
   "execution_count": 44,
   "id": "ceb72279-3ef7-46b8-bce4-b176c1a47a25",
   "metadata": {},
   "outputs": [],
   "source": [
    "import subprocess\n",
    "\n",
    "log_file = \"ollama.log\"\n",
    "with open(log_file, \"w\") as f:\n",
    "    subprocess.Popen([\"ollama\", \"serve\"], stdout=f, stderr=f)\n"
   ]
  },
  {
   "cell_type": "markdown",
   "id": "0ec7f719-5e9c-4dea-bda6-563e729a4d48",
   "metadata": {},
   "source": [
    "# Show ollama logs"
   ]
  },
  {
   "cell_type": "code",
   "execution_count": null,
   "id": "f45981f4-3b8d-40cc-8e76-51af1ef3d890",
   "metadata": {},
   "outputs": [],
   "source": [
    "!cat ollama.log"
   ]
  },
  {
   "cell_type": "markdown",
   "id": "81225f1f-44dc-4655-be5f-ae145d274257",
   "metadata": {},
   "source": [
    "# Install cloudflare"
   ]
  },
  {
   "cell_type": "code",
   "execution_count": null,
   "id": "3e006b73-dc75-4f45-a14a-4d9facd16289",
   "metadata": {},
   "outputs": [],
   "source": [
    "# @title Install cloudflare\n",
    "!wget https://github.com/cloudflare/cloudflared/releases/latest/download/cloudflared-linux-amd64.deb\n",
    "!dpkg -i cloudflared-linux-amd64.deb\n",
    "!rm -rf cloudflared-linux-amd64.deb\n",
    "!echo \"-= Done. =-\""
   ]
  },
  {
   "cell_type": "markdown",
   "id": "5cf0996d-f531-42a2-b588-1a8d75f095db",
   "metadata": {},
   "source": [
    "# Start cloudflare tunnel and openwebui"
   ]
  },
  {
   "cell_type": "code",
   "execution_count": null,
   "id": "641e772f-b22e-4bdd-9439-c9c9f5824821",
   "metadata": {},
   "outputs": [],
   "source": [
    "# @title Start cloudflare tunnel and openwebui\n",
    "import subprocess\n",
    "import threading\n",
    "import time\n",
    "import socket\n",
    "import urllib.request\n",
    "\n",
    "OPENWEBUI_PORT = 9999\n",
    "\n",
    "def iframe_thread(port):\n",
    "  while True:\n",
    "      time.sleep(0.5)\n",
    "      sock = socket.socket(socket.AF_INET, socket.SOCK_STREAM)\n",
    "      result = sock.connect_ex(('127.0.0.1', port))\n",
    "      if result == 0:\n",
    "        break\n",
    "      sock.close()\n",
    "  print(\"\\nComfyUI finished loading, trying to launch cloudflared (if it gets stuck here cloudflared is having issues)\\n\")\n",
    "\n",
    "  p = subprocess.Popen([\"cloudflared\", \"tunnel\", \"--url\", \"http://127.0.0.1:{}\".format(port)], stdout=subprocess.PIPE, stderr=subprocess.PIPE)\n",
    "  for line in p.stderr:\n",
    "    l = line.decode()\n",
    "    if \"trycloudflare.com \" in l:\n",
    "      cf_url = l[l.find(\"http\"):]\n",
    "      print(\"This is the URL to access ComfyUI:\", cf_url, end='')\n",
    "\n",
    "threading.Thread(target=iframe_thread, daemon=True, args=(OPENWEBUI_PORT,)).start()\n",
    "\n",
    "!open-webui serve --port $OPENWEBUI_PORT\n",
    "\n",
    "!echo \"-= Done. =-\""
   ]
  }
 ],
 "metadata": {
  "kernelspec": {
   "display_name": "Python 3 (ipykernel)",
   "language": "python",
   "name": "python3"
  },
  "language_info": {
   "codemirror_mode": {
    "name": "ipython",
    "version": 3
   },
   "file_extension": ".py",
   "mimetype": "text/x-python",
   "name": "python",
   "nbconvert_exporter": "python",
   "pygments_lexer": "ipython3",
   "version": "3.10.12"
  }
 },
 "nbformat": 4,
 "nbformat_minor": 5
}
